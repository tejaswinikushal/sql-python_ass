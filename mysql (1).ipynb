{
 "cells": [
  {
   "cell_type": "markdown",
   "id": "0ac77f6c-208a-44b8-9465-01034551b2a7",
   "metadata": {},
   "source": [
    "#### Q1. What is a database? Differentiate between SQL and NoSQL databases."
   ]
  },
  {
   "cell_type": "markdown",
   "id": "2d834af3-0812-4ab0-aab3-446fdbeb3729",
   "metadata": {},
   "source": [
    "A database is a structured collection of data that is organized, stored, and managed in a way that allows for efficient retrieval, manipulation, and analysis of the data.\n",
    "\n",
    "SQL (Structured Query Language) and NoSQL (Not Only SQL) are two different types of database management systems that differ in their data models, query languages, and scalability options.\n",
    "\n",
    "##### Differences :\n",
    "\n",
    "1.Data Model: SQL databases follow a fixed schema with predefined tables and relationships, whereas NoSQL databases have a flexible schema that allows for dynamic and unstructured data.\n",
    "\n",
    "2.Query Language: SQL databases use SQL as the query language, which provides a standardized way to interact with the data. NoSQL databases have their own query languages, which vary depending on the database type (e.g., MongoDB uses a JSON-based query language).\n",
    "\n",
    "3.ACID Properties: SQL databases generally support ACID (Atomicity, Consistency, Isolation, Durability) properties, ensuring data integrity and transactional consistency. NoSQL databases often relax some of these properties in favor of performance and scalability.\n",
    "\n",
    "4.Data Relationships: SQL databases are well-suited for handling complex relationships between data entities through the use of foreign keys and join operations. NoSQL databases handle relationships differently depending on the data model, often denormalizing or embedding related data within a single document or record.MongoDB uses a JSON-based query language).\n"
   ]
  },
  {
   "cell_type": "markdown",
   "id": "a062a3ca-3107-483b-b8d0-6b13bd0f6d3e",
   "metadata": {},
   "source": [
    "##### Q2. What is DDL? Explain why CREATE, DROP, ALTER, and TRUNCATE are used with an example."
   ]
  },
  {
   "cell_type": "markdown",
   "id": "ae496c35-7a7d-4566-92b3-672bdaa3d9bc",
   "metadata": {},
   "source": [
    "DDL : data definition language.\n",
    "\n",
    "DDL is used to define and manage the structure of a database and its objects. DDL statements are used to create, modify, and delete database objects such as tables, indexes, views, and constraints.\n",
    "\n",
    "1.CREATE: \n",
    "The CREATE statement is used to create a new database object\n",
    "\n",
    "Syntax :CREATE TABLE Customers (\n",
    "    ID INT PRIMARY KEY,\n",
    "    Name VARCHAR(50),\n",
    "    Email VARCHAR(100)\n",
    ");\n",
    "\n",
    "2.DROP: \n",
    "The DROP statement is used to delete an existing database object, such as a table or a view.\n",
    "\n",
    "Syntax :DROP TABLE Customers;\n",
    "\n",
    "3.ALTER: \n",
    "The ALTER statement is used to modify the structure of an existing database object. It allows you to add, modify, or delete columns, constraints, or other properties of a table.\n",
    "\n",
    "Syntax :\n",
    "\n",
    "(i)Add :ALTER TABLE Customers\n",
    "ADD Address VARCHAR(200);\n",
    "\n",
    "(ii)TRUNCATE: The TRUNCATE statement is used to delete all data from a table including structure.\n",
    "\n",
    "Syntax :TRUNCATE TABLE Customers;\n"
   ]
  },
  {
   "cell_type": "markdown",
   "id": "68dc349e-20d5-4cc4-af7e-20e8203ec52e",
   "metadata": {},
   "source": [
    "##### Q3. What is DML? Explain INSERT, UPDATE, and DELETE with an example."
   ]
  },
  {
   "cell_type": "markdown",
   "id": "b858adcc-0ea7-4770-9d90-aa08a4a1bedd",
   "metadata": {},
   "source": [
    "DML stands for Data Manipulation Language.DML statements are used to retrieve, insert, update, and delete data in a database.\n",
    "\n",
    "DML statements :\n",
    "\n",
    "INSERT: The INSERT statement is used to add new records or rows into a table. You can insert a single row or multiple rows at a time. \n",
    "\n",
    "Syntax :INSERT INTO table_name (column1, column2, column3, ...)\n",
    "VALUES (value1, value2, value3, ...);\n",
    "\n",
    "2.UPDATE: The UPDATE statement is used to modify existing records in a table. It allows you to change the values of one or more columns for specific rows in the table.\n",
    "\n",
    "Syntax:UPDATE table_name\n",
    "SET column1 = value1, column2 = value2, ...\n",
    "WHERE condition;\n",
    "\n",
    "3.DELETE: The DELETE statement is used to remove one or more rows from a table based on a specific condition.\n",
    "\n",
    "Syntax:DELETE FROM table_name\n",
    "WHERE condition;\n"
   ]
  },
  {
   "cell_type": "markdown",
   "id": "4db20216-427b-4761-b413-8fa50c971981",
   "metadata": {},
   "source": [
    "##### Q4. What is DQL? Explain SELECT with an example."
   ]
  },
  {
   "cell_type": "markdown",
   "id": "03a85a33-623f-43eb-b85f-b18d84c6a76f",
   "metadata": {},
   "source": [
    "DQL stands for Data Query Language,used for retrieving data from a database. DQL statements, primarily the SELECT statement, allow you to query the database and retrieve specific data based on specified conditions.\n",
    "\n",
    "Syntax:SELECT column1, column2, ...\n",
    "FROM table_name\n",
    "WHERE condition;\n",
    "\n",
    "there are several examples under select statement.\n",
    "\n",
    "Let's consider an example where we have a table called \"Employees\" with columns such as ID, Name, Age, Department, and Salary. We want to retrieve the names and salaries of employees who belong to the \"Sales\" department and have a salary greater than $50,000.\n",
    "\n",
    "Ex:SELECT Name, Salary\n",
    "FROM Employees\n",
    "WHERE Department = 'Sales' AND Salary > 50000;"
   ]
  },
  {
   "cell_type": "markdown",
   "id": "09b8d9aa-167e-490f-b618-3a4fdabab3f8",
   "metadata": {},
   "source": [
    "##### Q5. Explain Primary Key and Foreign Key."
   ]
  },
  {
   "cell_type": "markdown",
   "id": "0c78f199-399e-430e-a347-6fc18de10b58",
   "metadata": {},
   "source": [
    "1.Primary Key:\n",
    "\n",
    "A primary key is a column or a set of columns in a database table that uniquely identifies each row or record in that table.\n",
    "\n",
    "Properties:\n",
    "\n",
    "1.Uniqueness: Every value in a primary key column must be unique. No two rows in the table can have the same primary key value.\n",
    "\n",
    "2.Non-Nullability: Primary key columns cannot contain null values. Each row must have a valid value for the primary key column(s).\n",
    "\n",
    "2.Foreign Key:\n",
    "\n",
    "A foreign key is a column or a set of columns in a database table that refers to the primary key of another table. It establishes a relationship between two tables, known as a parent-child relationship.\n",
    "\n",
    "Properties:\n",
    "\n",
    "1.Referential Integrity: Foreign keys maintain referential integrity, ensuring that the values in the foreign key column(s) correspond to the values in the primary key column(s) of the referenced table.\n",
    "\n",
    "2.Relationship: A foreign key in a child table references the primary key of the parent table, establishing a relationship between the two tables.\n"
   ]
  },
  {
   "cell_type": "markdown",
   "id": "f38217f3-027f-4d2a-af67-9833fc857134",
   "metadata": {},
   "source": [
    "##### Q6. Write a python code to connect MySQL to python. Explain the cursor() and execute() method."
   ]
  },
  {
   "cell_type": "markdown",
   "id": "56656a09-5421-432c-bdef-e723da99cbed",
   "metadata": {},
   "source": [
    "import mysql.connector\n",
    "\n",
    "mydb = mysql.connector.connect(\n",
    "    host=\"localhost\",\n",
    "    user=\"your_username\",\n",
    "    password=\"your_password\",\n",
    "    database=\"your_database\"\n",
    ")\n",
    "\n",
    "mycursor = mydb.cursor()\n",
    "\n",
    "mycursor.execute(\"SELECT * FROM your_table\")\n",
    "\n",
    "result = mycursor.fetchall()\n",
    "\n",
    "for row in result:\n",
    "    print(row)\n",
    "    \n",
    "mycursor.close()\n",
    "\n",
    "mydb.close()\n",
    "\n",
    "cursor(): The cursor() method creates a cursor object that allows you to execute SQL queries and fetch the results. It acts as a handle or pointer to the result set returned by the database server.\n",
    "\n",
    "execute(): The execute() method is used to execute an SQL query or statement. It takes the SQL query as a parameter and sends it to the MySQL database server for execution. The result of the execution is stored in the cursor object.\n"
   ]
  },
  {
   "cell_type": "markdown",
   "id": "f16197f6-8a2d-4c43-a96f-fed549b21cfb",
   "metadata": {},
   "source": [
    "##### Q7. Give the order of execution of SQL clauses in an SQL query."
   ]
  },
  {
   "cell_type": "markdown",
   "id": "bb3be305",
   "metadata": {},
   "source": [
    "1.SELECT: The SELECT clause is executed first. It specifies the columns or expressions to retrieve from the database tables.\n",
    "\n",
    "2.FROM: The FROM clause is executed after the SELECT clause. It specifies the table or tables from which the data will be retrieved.\n",
    "\n",
    "3.WHERE: The WHERE clause is executed after the FROM clause. It filters the rows based on specified conditions. Only the rows that satisfy the conditions in the WHERE clause are included in the result set.\n",
    "\n",
    "4.GROUP BY: The GROUP BY clause is executed after the WHERE clause. It groups the rows based on specified columns. This is often used in conjunction with aggregate functions like COUNT, SUM, AVG, etc.\n",
    "\n",
    "5.HAVING: The HAVING clause is executed after the GROUP BY clause. It filters the grouped rows based on specified conditions. Only the grouped rows that satisfy the conditions in the HAVING clause are included in the result set.\n",
    "\n",
    "6.ORDER BY: The ORDER BY clause is executed after the HAVING clause. It sorts the result set based on specified columns or expressions. The sorting can be done in ascending (ASC) or descending (DESC) order."
   ]
  },
  {
   "cell_type": "code",
   "execution_count": null,
   "id": "1e5d784c",
   "metadata": {},
   "outputs": [],
   "source": []
  }
 ],
 "metadata": {
  "kernelspec": {
   "display_name": "Python 3 (ipykernel)",
   "language": "python",
   "name": "python3"
  },
  "language_info": {
   "codemirror_mode": {
    "name": "ipython",
    "version": 3
   },
   "file_extension": ".py",
   "mimetype": "text/x-python",
   "name": "python",
   "nbconvert_exporter": "python",
   "pygments_lexer": "ipython3",
   "version": "3.11.2"
  }
 },
 "nbformat": 4,
 "nbformat_minor": 5
}
